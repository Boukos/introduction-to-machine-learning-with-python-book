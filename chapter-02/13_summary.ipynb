{
 "cells": [
  {
   "cell_type": "markdown",
   "metadata": {},
   "source": [
    "Summary\n",
    "===\n",
    "\n",
    " - *Nearest Neighbors* - For small datasets, good as a baseline, easy to explain\n",
    " - *Linear models* - Go-to as a first algorithm to try, good for very large datasets, good for very high-dimensional data\n",
    " - *Naive Bayes* - Only for classification.  Even faster than linear models.  Good for very large datasets and high-dimensional data.  Often less accurate than linear models.\n",
    " - *Decision Trees* - Very fast, don't need scaling of the data, can be visualized and easily explained\n",
    " - *Random Forests* - Performs better than a single tree, very robust and powerful.  Don't need scaling of the data.  Not good for very high-dimensional sparse data.\n",
    " - *Gradient Boosted Decision Tree* - Slightly more accurate than random forests.  Slower to train but faster to predict than random forests, smaller in memory.  Need more parameter tuning than RF.\n",
    " - *Support Vector Machines* - Powerful for medium-sized datasets of features with similar meaning.  Require scaling of data, sensitive to parameters.\n",
    " - *Neural Networks* - Can build very complex models, particularly for large datasets.  Sensitive to scaling of the data and to the choice of parameters.  Large models need a long time to train."
   ]
  }
 ],
 "metadata": {
  "kernelspec": {
   "display_name": "Python 3",
   "language": "python",
   "name": "python3"
  },
  "language_info": {
   "codemirror_mode": {
    "name": "ipython",
    "version": 3
   },
   "file_extension": ".py",
   "mimetype": "text/x-python",
   "name": "python",
   "nbconvert_exporter": "python",
   "pygments_lexer": "ipython3",
   "version": "3.5.2"
  }
 },
 "nbformat": 4,
 "nbformat_minor": 1
}
